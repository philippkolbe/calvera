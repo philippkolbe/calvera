{
 "cells": [
  {
   "cell_type": "code",
   "execution_count": null,
   "metadata": {},
   "outputs": [],
   "source": [
    "from neural_bandits.datasets.wheel import WheelBanditDataset\n",
    "from neural_bandits.environments.base_environment import BaseEnvironment\n",
    "from neural_bandits.algorithms.linear_bandits import LinearUCBBandit\n",
    "from neural_bandits.trainers.linear_trainer import LinearTrainer\n",
    "from neural_bandits.utils.multiclass import MultiClassContextualiser"
   ]
  },
  {
   "cell_type": "code",
   "execution_count": null,
   "metadata": {},
   "outputs": [],
   "source": [
    "dataset = WheelBanditDataset(num_samples=1000, delta=0.99)\n",
    "\n",
    "actions = 5\n",
    "context_dim = 2\n",
    "\n",
    "contextualiser = MultiClassContextualiser(actions)\n",
    "bandit = LinearUCBBandit(actions, context_dim * actions)\n",
    "trainer = LinearTrainer()"
   ]
  },
  {
   "cell_type": "code",
   "execution_count": null,
   "metadata": {},
   "outputs": [],
   "source": [
    "env = BaseEnvironment(\n",
    "    bandit=bandit,\n",
    "    trainer=trainer,\n",
    "    dataset=dataset,\n",
    "    contextualiser=contextualiser,\n",
    "    log_method=lambda x: print(x),\n",
    ")"
   ]
  },
  {
   "cell_type": "code",
   "execution_count": null,
   "metadata": {},
   "outputs": [],
   "source": [
    "results = env.run()"
   ]
  },
  {
   "cell_type": "code",
   "execution_count": null,
   "metadata": {},
   "outputs": [],
   "source": [
    "print(results.items())"
   ]
  },
  {
   "cell_type": "code",
   "execution_count": null,
   "metadata": {},
   "outputs": [],
   "source": [
    "# plot results\n",
    "import matplotlib.pyplot as plt\n",
    "\n",
    "plt.plot(results[\"cumulative_rewards\"][0:1000])\n",
    "plt.show()"
   ]
  },
  {
   "cell_type": "code",
   "execution_count": null,
   "metadata": {},
   "outputs": [],
   "source": [
    "print(results[\"cumulative_rewards\"][-1] / 581012)\n",
    "print(1 / 7)"
   ]
  }
 ],
 "metadata": {
  "kernelspec": {
   "display_name": "neural_bandits",
   "language": "python",
   "name": "python3"
  },
  "language_info": {
   "codemirror_mode": {
    "name": "ipython",
    "version": 3
   },
   "file_extension": ".py",
   "mimetype": "text/x-python",
   "name": "python",
   "nbconvert_exporter": "python",
   "pygments_lexer": "ipython3",
   "version": "3.10.15"
  }
 },
 "nbformat": 4,
 "nbformat_minor": 2
}
